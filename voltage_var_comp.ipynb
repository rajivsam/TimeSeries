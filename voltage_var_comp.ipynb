{
 "cells": [
  {
   "cell_type": "markdown",
   "metadata": {},
   "source": [
    "# PCA Analysis of Hourly Mean Voltages"
   ]
  },
  {
   "cell_type": "code",
   "execution_count": 47,
   "metadata": {},
   "outputs": [],
   "source": [
    "import pandas as pd\n",
    "import os\n",
    "os.chdir(\"/home/admin123/timeseries\")\n",
    "fp = \"ln_hpc.txt\"\n",
    "df = pd.read_csv(fp, sep = \";\")\n",
    "req_cols = [\"Date\", \"Time\", \"Voltage\"]\n",
    "df = df[req_cols]\n",
    "df[\"Timestamp\"] = df[\"Date\"] + \" \" + df[\"Time\"]\n",
    "df[\"Timestamp\"] = pd.to_datetime(df[\"Timestamp\"],format=\"%d/%m/%Y %H:%M:%S\")\n",
    "req_cols = [\"Voltage\", \"Timestamp\"]\n",
    "df = df[req_cols]\n"
   ]
  },
  {
   "cell_type": "markdown",
   "metadata": {},
   "source": [
    "## Implementation Note:\n",
    "We need to remove the values of the voltage encoded as \"?\" because we need voltage to be a numeric quantity for aggregation in hourly mean voltages"
   ]
  },
  {
   "cell_type": "code",
   "execution_count": 48,
   "metadata": {},
   "outputs": [],
   "source": [
    "\n",
    "df[\"Voltage\"] = df[- (df[\"Voltage\"] == \"?\")]\n",
    "df[\"Voltage\"] = df[\"Voltage\"].astype('float')\n",
    "df = df.set_index(\"Timestamp\")\n"
   ]
  },
  {
   "cell_type": "code",
   "execution_count": 95,
   "metadata": {},
   "outputs": [],
   "source": [
    "hourly_voltage = df.groupby(pd.Grouper(freq='H')).mean()\n",
    "\n"
   ]
  },
  {
   "cell_type": "markdown",
   "metadata": {},
   "source": [
    "## Implementation Node:\n",
    "Note that problematic hourly voltage values exist - Nan"
   ]
  },
  {
   "cell_type": "code",
   "execution_count": 96,
   "metadata": {},
   "outputs": [
    {
     "data": {
      "text/html": [
       "<div>\n",
       "<style scoped>\n",
       "    .dataframe tbody tr th:only-of-type {\n",
       "        vertical-align: middle;\n",
       "    }\n",
       "\n",
       "    .dataframe tbody tr th {\n",
       "        vertical-align: top;\n",
       "    }\n",
       "\n",
       "    .dataframe thead th {\n",
       "        text-align: right;\n",
       "    }\n",
       "</style>\n",
       "<table border=\"1\" class=\"dataframe\">\n",
       "  <thead>\n",
       "    <tr style=\"text-align: right;\">\n",
       "      <th></th>\n",
       "      <th>Voltage</th>\n",
       "    </tr>\n",
       "    <tr>\n",
       "      <th>Timestamp</th>\n",
       "      <th></th>\n",
       "    </tr>\n",
       "  </thead>\n",
       "  <tbody>\n",
       "    <tr>\n",
       "      <th>2007-04-28 01:00:00</th>\n",
       "      <td>NaN</td>\n",
       "    </tr>\n",
       "    <tr>\n",
       "      <th>2007-04-28 02:00:00</th>\n",
       "      <td>NaN</td>\n",
       "    </tr>\n",
       "    <tr>\n",
       "      <th>2007-04-28 03:00:00</th>\n",
       "      <td>NaN</td>\n",
       "    </tr>\n",
       "    <tr>\n",
       "      <th>2007-04-28 04:00:00</th>\n",
       "      <td>NaN</td>\n",
       "    </tr>\n",
       "    <tr>\n",
       "      <th>2007-04-28 05:00:00</th>\n",
       "      <td>NaN</td>\n",
       "    </tr>\n",
       "  </tbody>\n",
       "</table>\n",
       "</div>"
      ],
      "text/plain": [
       "                     Voltage\n",
       "Timestamp                   \n",
       "2007-04-28 01:00:00      NaN\n",
       "2007-04-28 02:00:00      NaN\n",
       "2007-04-28 03:00:00      NaN\n",
       "2007-04-28 04:00:00      NaN\n",
       "2007-04-28 05:00:00      NaN"
      ]
     },
     "execution_count": 96,
     "metadata": {},
     "output_type": "execute_result"
    }
   ],
   "source": [
    "df_prh = hourly_voltage[hourly_voltage[\"Voltage\"].isnull()]\n",
    "df_prh.head()"
   ]
  },
  {
   "cell_type": "markdown",
   "metadata": {},
   "source": [
    "## Observation\n",
    "Let us determine the number problematic data collection days in the data "
   ]
  },
  {
   "cell_type": "code",
   "execution_count": 97,
   "metadata": {},
   "outputs": [],
   "source": [
    "df_prh.loc[:,\"Timestamp\"] = df_prh.index.values\n",
    "num_problem_days = len(df_prh[\"Timestamp\"].dt.date.unique())"
   ]
  },
  {
   "cell_type": "code",
   "execution_count": 98,
   "metadata": {},
   "outputs": [
    {
     "data": {
      "text/plain": [
       "23"
      ]
     },
     "execution_count": 98,
     "metadata": {},
     "output_type": "execute_result"
    }
   ],
   "source": [
    "num_problem_days"
   ]
  },
  {
   "cell_type": "markdown",
   "metadata": {},
   "source": [
    "## Observation\n",
    "Number of problematic data records, 23 is much less than the number of probalematic days with minute data samples (82)."
   ]
  },
  {
   "cell_type": "code",
   "execution_count": 99,
   "metadata": {},
   "outputs": [],
   "source": [
    "import numpy as np\n",
    "from math import ceil\n",
    "num_rows = int(ceil(hourly_voltage.shape[0]/24.0))\n",
    "num_cols = 24\n"
   ]
  },
  {
   "cell_type": "code",
   "execution_count": 100,
   "metadata": {},
   "outputs": [
    {
     "data": {
      "text/plain": [
       "19"
      ]
     },
     "execution_count": 100,
     "metadata": {},
     "output_type": "execute_result"
    }
   ],
   "source": [
    "num_rows*num_cols - hourly_voltage.shape[0]"
   ]
  },
  {
   "cell_type": "code",
   "execution_count": 101,
   "metadata": {},
   "outputs": [
    {
     "data": {
      "text/plain": [
       "pandas.core.indexes.numeric.Int64Index"
      ]
     },
     "execution_count": 101,
     "metadata": {},
     "output_type": "execute_result"
    }
   ],
   "source": [
    "type(hourly_voltage.index.hour)"
   ]
  },
  {
   "cell_type": "code",
   "execution_count": 102,
   "metadata": {},
   "outputs": [],
   "source": [
    "hourly_voltage[\"Hour\"]= hourly_voltage.index.hour\n"
   ]
  },
  {
   "cell_type": "code",
   "execution_count": 103,
   "metadata": {},
   "outputs": [],
   "source": [
    "first_date = hourly_voltage.index.date[0]\n",
    "last_date = hourly_voltage.index.date[hourly_voltage.shape[0] - 1]"
   ]
  },
  {
   "cell_type": "code",
   "execution_count": 109,
   "metadata": {},
   "outputs": [
    {
     "data": {
      "text/plain": [
       "(34560, 2)"
      ]
     },
     "execution_count": 109,
     "metadata": {},
     "output_type": "execute_result"
    }
   ],
   "source": [
    "hourly_voltage = hourly_voltage.loc[~(hourly_voltage.index.date == first_date)]\n",
    "hourly_voltage = hourly_voltage.loc[~(hourly_voltage.index.date == last_date)]\n",
    "hourly_voltage.shape"
   ]
  },
  {
   "cell_type": "code",
   "execution_count": 111,
   "metadata": {},
   "outputs": [],
   "source": [
    "num_dates = len(np.unique(hourly_voltage.index.date))"
   ]
  },
  {
   "cell_type": "code",
   "execution_count": 115,
   "metadata": {},
   "outputs": [
    {
     "data": {
      "text/html": [
       "<div>\n",
       "<style scoped>\n",
       "    .dataframe tbody tr th:only-of-type {\n",
       "        vertical-align: middle;\n",
       "    }\n",
       "\n",
       "    .dataframe tbody tr th {\n",
       "        vertical-align: top;\n",
       "    }\n",
       "\n",
       "    .dataframe thead th {\n",
       "        text-align: right;\n",
       "    }\n",
       "</style>\n",
       "<table border=\"1\" class=\"dataframe\">\n",
       "  <thead>\n",
       "    <tr style=\"text-align: right;\">\n",
       "      <th></th>\n",
       "      <th>Voltage</th>\n",
       "      <th>Hour</th>\n",
       "    </tr>\n",
       "    <tr>\n",
       "      <th>Timestamp</th>\n",
       "      <th></th>\n",
       "      <th></th>\n",
       "    </tr>\n",
       "  </thead>\n",
       "  <tbody>\n",
       "    <tr>\n",
       "      <th>2006-12-17 00:00:00</th>\n",
       "      <td>240.961833</td>\n",
       "      <td>0</td>\n",
       "    </tr>\n",
       "    <tr>\n",
       "      <th>2006-12-17 01:00:00</th>\n",
       "      <td>240.448333</td>\n",
       "      <td>1</td>\n",
       "    </tr>\n",
       "    <tr>\n",
       "      <th>2006-12-17 02:00:00</th>\n",
       "      <td>245.818667</td>\n",
       "      <td>2</td>\n",
       "    </tr>\n",
       "    <tr>\n",
       "      <th>2006-12-17 03:00:00</th>\n",
       "      <td>244.513500</td>\n",
       "      <td>3</td>\n",
       "    </tr>\n",
       "    <tr>\n",
       "      <th>2006-12-17 04:00:00</th>\n",
       "      <td>243.855500</td>\n",
       "      <td>4</td>\n",
       "    </tr>\n",
       "  </tbody>\n",
       "</table>\n",
       "</div>"
      ],
      "text/plain": [
       "                        Voltage  Hour\n",
       "Timestamp                            \n",
       "2006-12-17 00:00:00  240.961833     0\n",
       "2006-12-17 01:00:00  240.448333     1\n",
       "2006-12-17 02:00:00  245.818667     2\n",
       "2006-12-17 03:00:00  244.513500     3\n",
       "2006-12-17 04:00:00  243.855500     4"
      ]
     },
     "execution_count": 115,
     "metadata": {},
     "output_type": "execute_result"
    }
   ],
   "source": [
    "hourly_voltage.head()"
   ]
  },
  {
   "cell_type": "code",
   "execution_count": 116,
   "metadata": {},
   "outputs": [],
   "source": [
    "data = np.reshape(hourly_voltage[\"Voltage\"].values, (num_dates, 24), order = 'C')\n"
   ]
  },
  {
   "cell_type": "code",
   "execution_count": 136,
   "metadata": {},
   "outputs": [],
   "source": [
    "col = [str(i) + \":00\" for i in range(24)]"
   ]
  },
  {
   "cell_type": "code",
   "execution_count": 137,
   "metadata": {},
   "outputs": [],
   "source": [
    "df_h = pd.DataFrame(data)"
   ]
  },
  {
   "cell_type": "code",
   "execution_count": 138,
   "metadata": {},
   "outputs": [],
   "source": [
    "df_h.columns = col"
   ]
  },
  {
   "cell_type": "code",
   "execution_count": 139,
   "metadata": {},
   "outputs": [],
   "source": [
    "df_h = df_h.set_index(np.unique(hourly_voltage.index.date))"
   ]
  },
  {
   "cell_type": "code",
   "execution_count": 140,
   "metadata": {},
   "outputs": [
    {
     "data": {
      "text/html": [
       "<div>\n",
       "<style scoped>\n",
       "    .dataframe tbody tr th:only-of-type {\n",
       "        vertical-align: middle;\n",
       "    }\n",
       "\n",
       "    .dataframe tbody tr th {\n",
       "        vertical-align: top;\n",
       "    }\n",
       "\n",
       "    .dataframe thead th {\n",
       "        text-align: right;\n",
       "    }\n",
       "</style>\n",
       "<table border=\"1\" class=\"dataframe\">\n",
       "  <thead>\n",
       "    <tr style=\"text-align: right;\">\n",
       "      <th></th>\n",
       "      <th>0:00</th>\n",
       "      <th>1:00</th>\n",
       "      <th>2:00</th>\n",
       "      <th>3:00</th>\n",
       "      <th>4:00</th>\n",
       "      <th>5:00</th>\n",
       "      <th>6:00</th>\n",
       "      <th>7:00</th>\n",
       "      <th>8:00</th>\n",
       "      <th>9:00</th>\n",
       "      <th>...</th>\n",
       "      <th>14:00</th>\n",
       "      <th>15:00</th>\n",
       "      <th>16:00</th>\n",
       "      <th>17:00</th>\n",
       "      <th>18:00</th>\n",
       "      <th>19:00</th>\n",
       "      <th>20:00</th>\n",
       "      <th>21:00</th>\n",
       "      <th>22:00</th>\n",
       "      <th>23:00</th>\n",
       "    </tr>\n",
       "  </thead>\n",
       "  <tbody>\n",
       "    <tr>\n",
       "      <th>2006-12-17</th>\n",
       "      <td>240.961833</td>\n",
       "      <td>240.448333</td>\n",
       "      <td>245.818667</td>\n",
       "      <td>244.513500</td>\n",
       "      <td>243.855500</td>\n",
       "      <td>243.710167</td>\n",
       "      <td>244.141500</td>\n",
       "      <td>241.845667</td>\n",
       "      <td>241.311500</td>\n",
       "      <td>238.847833</td>\n",
       "      <td>...</td>\n",
       "      <td>244.045667</td>\n",
       "      <td>240.480833</td>\n",
       "      <td>236.781833</td>\n",
       "      <td>234.229833</td>\n",
       "      <td>234.372333</td>\n",
       "      <td>233.195667</td>\n",
       "      <td>236.426500</td>\n",
       "      <td>239.104167</td>\n",
       "      <td>242.192333</td>\n",
       "      <td>245.734000</td>\n",
       "    </tr>\n",
       "    <tr>\n",
       "      <th>2006-12-18</th>\n",
       "      <td>244.607500</td>\n",
       "      <td>243.519333</td>\n",
       "      <td>246.891000</td>\n",
       "      <td>245.731833</td>\n",
       "      <td>245.507000</td>\n",
       "      <td>245.253167</td>\n",
       "      <td>245.704333</td>\n",
       "      <td>240.962333</td>\n",
       "      <td>237.880333</td>\n",
       "      <td>237.404667</td>\n",
       "      <td>...</td>\n",
       "      <td>242.196500</td>\n",
       "      <td>242.423500</td>\n",
       "      <td>242.380667</td>\n",
       "      <td>238.729167</td>\n",
       "      <td>236.668500</td>\n",
       "      <td>235.329167</td>\n",
       "      <td>234.524333</td>\n",
       "      <td>237.590833</td>\n",
       "      <td>240.211500</td>\n",
       "      <td>242.659333</td>\n",
       "    </tr>\n",
       "    <tr>\n",
       "      <th>2006-12-19</th>\n",
       "      <td>242.071167</td>\n",
       "      <td>241.808333</td>\n",
       "      <td>245.779500</td>\n",
       "      <td>244.463167</td>\n",
       "      <td>244.186500</td>\n",
       "      <td>243.075833</td>\n",
       "      <td>242.029667</td>\n",
       "      <td>239.426167</td>\n",
       "      <td>236.146333</td>\n",
       "      <td>239.572333</td>\n",
       "      <td>...</td>\n",
       "      <td>246.945833</td>\n",
       "      <td>241.740667</td>\n",
       "      <td>242.714333</td>\n",
       "      <td>238.606667</td>\n",
       "      <td>237.640500</td>\n",
       "      <td>241.080000</td>\n",
       "      <td>241.328167</td>\n",
       "      <td>240.870000</td>\n",
       "      <td>242.679333</td>\n",
       "      <td>246.627167</td>\n",
       "    </tr>\n",
       "    <tr>\n",
       "      <th>2006-12-20</th>\n",
       "      <td>245.811333</td>\n",
       "      <td>243.805333</td>\n",
       "      <td>245.567500</td>\n",
       "      <td>246.150833</td>\n",
       "      <td>246.433667</td>\n",
       "      <td>244.795500</td>\n",
       "      <td>244.074000</td>\n",
       "      <td>243.315000</td>\n",
       "      <td>239.792333</td>\n",
       "      <td>243.122833</td>\n",
       "      <td>...</td>\n",
       "      <td>244.034500</td>\n",
       "      <td>245.719167</td>\n",
       "      <td>244.113500</td>\n",
       "      <td>242.920667</td>\n",
       "      <td>239.240667</td>\n",
       "      <td>236.739833</td>\n",
       "      <td>236.345167</td>\n",
       "      <td>235.992333</td>\n",
       "      <td>238.860500</td>\n",
       "      <td>242.391167</td>\n",
       "    </tr>\n",
       "    <tr>\n",
       "      <th>2006-12-21</th>\n",
       "      <td>243.425833</td>\n",
       "      <td>243.698167</td>\n",
       "      <td>243.653667</td>\n",
       "      <td>244.567167</td>\n",
       "      <td>244.740167</td>\n",
       "      <td>243.949500</td>\n",
       "      <td>244.850500</td>\n",
       "      <td>241.293667</td>\n",
       "      <td>239.494500</td>\n",
       "      <td>238.477667</td>\n",
       "      <td>...</td>\n",
       "      <td>243.319500</td>\n",
       "      <td>242.906333</td>\n",
       "      <td>239.906333</td>\n",
       "      <td>235.018333</td>\n",
       "      <td>233.894333</td>\n",
       "      <td>235.000500</td>\n",
       "      <td>234.500333</td>\n",
       "      <td>238.312167</td>\n",
       "      <td>242.866500</td>\n",
       "      <td>245.350333</td>\n",
       "    </tr>\n",
       "  </tbody>\n",
       "</table>\n",
       "<p>5 rows × 24 columns</p>\n",
       "</div>"
      ],
      "text/plain": [
       "                  0:00        1:00        2:00        3:00        4:00  \\\n",
       "2006-12-17  240.961833  240.448333  245.818667  244.513500  243.855500   \n",
       "2006-12-18  244.607500  243.519333  246.891000  245.731833  245.507000   \n",
       "2006-12-19  242.071167  241.808333  245.779500  244.463167  244.186500   \n",
       "2006-12-20  245.811333  243.805333  245.567500  246.150833  246.433667   \n",
       "2006-12-21  243.425833  243.698167  243.653667  244.567167  244.740167   \n",
       "\n",
       "                  5:00        6:00        7:00        8:00        9:00  \\\n",
       "2006-12-17  243.710167  244.141500  241.845667  241.311500  238.847833   \n",
       "2006-12-18  245.253167  245.704333  240.962333  237.880333  237.404667   \n",
       "2006-12-19  243.075833  242.029667  239.426167  236.146333  239.572333   \n",
       "2006-12-20  244.795500  244.074000  243.315000  239.792333  243.122833   \n",
       "2006-12-21  243.949500  244.850500  241.293667  239.494500  238.477667   \n",
       "\n",
       "               ...           14:00       15:00       16:00       17:00  \\\n",
       "2006-12-17     ...      244.045667  240.480833  236.781833  234.229833   \n",
       "2006-12-18     ...      242.196500  242.423500  242.380667  238.729167   \n",
       "2006-12-19     ...      246.945833  241.740667  242.714333  238.606667   \n",
       "2006-12-20     ...      244.034500  245.719167  244.113500  242.920667   \n",
       "2006-12-21     ...      243.319500  242.906333  239.906333  235.018333   \n",
       "\n",
       "                 18:00       19:00       20:00       21:00       22:00  \\\n",
       "2006-12-17  234.372333  233.195667  236.426500  239.104167  242.192333   \n",
       "2006-12-18  236.668500  235.329167  234.524333  237.590833  240.211500   \n",
       "2006-12-19  237.640500  241.080000  241.328167  240.870000  242.679333   \n",
       "2006-12-20  239.240667  236.739833  236.345167  235.992333  238.860500   \n",
       "2006-12-21  233.894333  235.000500  234.500333  238.312167  242.866500   \n",
       "\n",
       "                 23:00  \n",
       "2006-12-17  245.734000  \n",
       "2006-12-18  242.659333  \n",
       "2006-12-19  246.627167  \n",
       "2006-12-20  242.391167  \n",
       "2006-12-21  245.350333  \n",
       "\n",
       "[5 rows x 24 columns]"
      ]
     },
     "execution_count": 140,
     "metadata": {},
     "output_type": "execute_result"
    }
   ],
   "source": [
    "df_h.head()"
   ]
  },
  {
   "cell_type": "code",
   "execution_count": 142,
   "metadata": {},
   "outputs": [
    {
     "data": {
      "text/plain": [
       "(1440, 24)"
      ]
     },
     "execution_count": 142,
     "metadata": {},
     "output_type": "execute_result"
    }
   ],
   "source": [
    "from sklearn.decomposition import PCA\n",
    "pca = PCA(n_components= 24)\n",
    "df_h.shape"
   ]
  },
  {
   "cell_type": "code",
   "execution_count": 143,
   "metadata": {},
   "outputs": [],
   "source": [
    "df_h = df_h.dropna()"
   ]
  },
  {
   "cell_type": "code",
   "execution_count": 144,
   "metadata": {},
   "outputs": [
    {
     "data": {
      "text/plain": [
       "(1417, 24)"
      ]
     },
     "execution_count": 144,
     "metadata": {},
     "output_type": "execute_result"
    }
   ],
   "source": [
    "df_h.shape"
   ]
  },
  {
   "cell_type": "code",
   "execution_count": 145,
   "metadata": {},
   "outputs": [
    {
     "data": {
      "text/plain": [
       "PCA(copy=True, iterated_power='auto', n_components=24, random_state=None,\n",
       "  svd_solver='auto', tol=0.0, whiten=False)"
      ]
     },
     "execution_count": 145,
     "metadata": {},
     "output_type": "execute_result"
    }
   ],
   "source": [
    "pca.fit(df_h.values)"
   ]
  },
  {
   "cell_type": "code",
   "execution_count": 146,
   "metadata": {},
   "outputs": [
    {
     "name": "stdout",
     "output_type": "stream",
     "text": [
      "[0.59787303 0.12469354 0.05157811 0.04675496 0.02923138 0.02405322\n",
      " 0.02110359 0.01394118 0.01312797 0.01171881 0.00906737 0.00804342\n",
      " 0.00640253 0.00631976 0.0053605  0.00486446 0.0047924  0.00425005\n",
      " 0.00391179 0.00361004 0.00348434 0.00290008 0.00189955 0.00101794]\n"
     ]
    }
   ],
   "source": [
    "print(pca.explained_variance_ratio_)"
   ]
  },
  {
   "cell_type": "code",
   "execution_count": 147,
   "metadata": {},
   "outputs": [
    {
     "data": {
      "image/png": "[encoded data removed]",
      "text/plain": [
       "<Figure size 432x288 with 1 Axes>"
      ]
     },
     "metadata": {},
     "output_type": "display_data"
    }
   ],
   "source": [
    "import matplotlib.pyplot as plt\n",
    "%matplotlib inline\n",
    "plt.plot(np.cumsum(pca.explained_variance_ratio_))\n",
    "plt.xlabel('number of components')\n",
    "plt.ylabel('cumulative explained variance')\n",
    "plt.grid()"
   ]
  },
  {
   "cell_type": "code",
   "execution_count": 148,
   "metadata": {},
   "outputs": [
    {
     "data": {
      "image/png": "[encoded data removed]",
      "text/plain": [
       "<Figure size 432x288 with 1 Axes>"
      ]
     },
     "metadata": {},
     "output_type": "display_data"
    }
   ],
   "source": [
    "plt.plot(pca.explained_variance_ratio_)\n",
    "plt.xlabel('number of components')\n",
    "plt.ylabel('cumulative explained variance')\n",
    "plt.grid()"
   ]
  },
  {
   "cell_type": "code",
   "execution_count": null,
   "metadata": {},
   "outputs": [],
   "source": []
  }
 ],
 "metadata": {
  "kernelspec": {
   "display_name": "Python 2",
   "language": "python",
   "name": "python2"
  },
  "language_info": {
   "codemirror_mode": {
    "name": "ipython",
    "version": 2
   },
   "file_extension": ".py",
   "mimetype": "text/x-python",
   "name": "python",
   "nbconvert_exporter": "python",
   "pygments_lexer": "ipython2",
   "version": "2.7.15"
  }
 },
 "nbformat": 4,
 "nbformat_minor": 2
}
