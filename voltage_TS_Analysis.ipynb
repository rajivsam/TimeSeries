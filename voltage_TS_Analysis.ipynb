{
 "cells": [
  {
   "cell_type": "markdown",
   "metadata": {},
   "source": [
    "# Analysis of Voltage"
   ]
  },
  {
   "cell_type": "code",
   "execution_count": 47,
   "metadata": {},
   "outputs": [],
   "source": [
    "import pandas as pd\n",
    "import os\n",
    "os.chdir(\"/home/admin123/timeseries\")\n",
    "fp = \"ln_hpc.txt\"\n",
    "df = pd.read_csv(fp, sep = \";\")\n",
    "req_cols = [\"Date\", \"Time\", \"Voltage\"]\n",
    "df = df[req_cols]\n",
    "df[\"Timestamp\"] = df[\"Date\"] + \" \" + df[\"Time\"]\n",
    "df[\"Timestamp\"] = pd.to_datetime(df[\"Timestamp\"],format=\"%d/%m/%Y %H:%M:%S\")\n",
    "req_cols = [\"Voltage\", \"Timestamp\"]\n",
    "df = df[req_cols]\n"
   ]
  },
  {
   "cell_type": "code",
   "execution_count": 48,
   "metadata": {},
   "outputs": [],
   "source": [
    "df_pr = df[df[\"Voltage\"] == '?']"
   ]
  },
  {
   "cell_type": "code",
   "execution_count": 49,
   "metadata": {},
   "outputs": [
    {
     "data": {
      "text/html": [
       "<div>\n",
       "<style scoped>\n",
       "    .dataframe tbody tr th:only-of-type {\n",
       "        vertical-align: middle;\n",
       "    }\n",
       "\n",
       "    .dataframe tbody tr th {\n",
       "        vertical-align: top;\n",
       "    }\n",
       "\n",
       "    .dataframe thead th {\n",
       "        text-align: right;\n",
       "    }\n",
       "</style>\n",
       "<table border=\"1\" class=\"dataframe\">\n",
       "  <thead>\n",
       "    <tr style=\"text-align: right;\">\n",
       "      <th></th>\n",
       "      <th>Voltage</th>\n",
       "      <th>Timestamp</th>\n",
       "    </tr>\n",
       "  </thead>\n",
       "  <tbody>\n",
       "    <tr>\n",
       "      <th>6839</th>\n",
       "      <td>?</td>\n",
       "      <td>2006-12-21 11:23:00</td>\n",
       "    </tr>\n",
       "    <tr>\n",
       "      <th>6840</th>\n",
       "      <td>?</td>\n",
       "      <td>2006-12-21 11:24:00</td>\n",
       "    </tr>\n",
       "    <tr>\n",
       "      <th>19724</th>\n",
       "      <td>?</td>\n",
       "      <td>2006-12-30 10:08:00</td>\n",
       "    </tr>\n",
       "    <tr>\n",
       "      <th>19725</th>\n",
       "      <td>?</td>\n",
       "      <td>2006-12-30 10:09:00</td>\n",
       "    </tr>\n",
       "    <tr>\n",
       "      <th>41832</th>\n",
       "      <td>?</td>\n",
       "      <td>2007-01-14 18:36:00</td>\n",
       "    </tr>\n",
       "    <tr>\n",
       "      <th>61909</th>\n",
       "      <td>?</td>\n",
       "      <td>2007-01-28 17:13:00</td>\n",
       "    </tr>\n",
       "    <tr>\n",
       "      <th>98254</th>\n",
       "      <td>?</td>\n",
       "      <td>2007-02-22 22:58:00</td>\n",
       "    </tr>\n",
       "    <tr>\n",
       "      <th>98255</th>\n",
       "      <td>?</td>\n",
       "      <td>2007-02-22 22:59:00</td>\n",
       "    </tr>\n",
       "    <tr>\n",
       "      <th>142588</th>\n",
       "      <td>?</td>\n",
       "      <td>2007-03-25 17:52:00</td>\n",
       "    </tr>\n",
       "    <tr>\n",
       "      <th>190497</th>\n",
       "      <td>?</td>\n",
       "      <td>2007-04-28 00:21:00</td>\n",
       "    </tr>\n",
       "    <tr>\n",
       "      <th>190498</th>\n",
       "      <td>?</td>\n",
       "      <td>2007-04-28 00:22:00</td>\n",
       "    </tr>\n",
       "    <tr>\n",
       "      <th>190499</th>\n",
       "      <td>?</td>\n",
       "      <td>2007-04-28 00:23:00</td>\n",
       "    </tr>\n",
       "    <tr>\n",
       "      <th>190500</th>\n",
       "      <td>?</td>\n",
       "      <td>2007-04-28 00:24:00</td>\n",
       "    </tr>\n",
       "    <tr>\n",
       "      <th>190501</th>\n",
       "      <td>?</td>\n",
       "      <td>2007-04-28 00:25:00</td>\n",
       "    </tr>\n",
       "    <tr>\n",
       "      <th>190502</th>\n",
       "      <td>?</td>\n",
       "      <td>2007-04-28 00:26:00</td>\n",
       "    </tr>\n",
       "    <tr>\n",
       "      <th>190503</th>\n",
       "      <td>?</td>\n",
       "      <td>2007-04-28 00:27:00</td>\n",
       "    </tr>\n",
       "    <tr>\n",
       "      <th>190504</th>\n",
       "      <td>?</td>\n",
       "      <td>2007-04-28 00:28:00</td>\n",
       "    </tr>\n",
       "    <tr>\n",
       "      <th>190505</th>\n",
       "      <td>?</td>\n",
       "      <td>2007-04-28 00:29:00</td>\n",
       "    </tr>\n",
       "    <tr>\n",
       "      <th>190506</th>\n",
       "      <td>?</td>\n",
       "      <td>2007-04-28 00:30:00</td>\n",
       "    </tr>\n",
       "    <tr>\n",
       "      <th>190507</th>\n",
       "      <td>?</td>\n",
       "      <td>2007-04-28 00:31:00</td>\n",
       "    </tr>\n",
       "  </tbody>\n",
       "</table>\n",
       "</div>"
      ],
      "text/plain": [
       "       Voltage           Timestamp\n",
       "6839         ? 2006-12-21 11:23:00\n",
       "6840         ? 2006-12-21 11:24:00\n",
       "19724        ? 2006-12-30 10:08:00\n",
       "19725        ? 2006-12-30 10:09:00\n",
       "41832        ? 2007-01-14 18:36:00\n",
       "61909        ? 2007-01-28 17:13:00\n",
       "98254        ? 2007-02-22 22:58:00\n",
       "98255        ? 2007-02-22 22:59:00\n",
       "142588       ? 2007-03-25 17:52:00\n",
       "190497       ? 2007-04-28 00:21:00\n",
       "190498       ? 2007-04-28 00:22:00\n",
       "190499       ? 2007-04-28 00:23:00\n",
       "190500       ? 2007-04-28 00:24:00\n",
       "190501       ? 2007-04-28 00:25:00\n",
       "190502       ? 2007-04-28 00:26:00\n",
       "190503       ? 2007-04-28 00:27:00\n",
       "190504       ? 2007-04-28 00:28:00\n",
       "190505       ? 2007-04-28 00:29:00\n",
       "190506       ? 2007-04-28 00:30:00\n",
       "190507       ? 2007-04-28 00:31:00"
      ]
     },
     "execution_count": 49,
     "metadata": {},
     "output_type": "execute_result"
    }
   ],
   "source": [
    "df_pr.head(20)"
   ]
  },
  {
   "cell_type": "code",
   "execution_count": 50,
   "metadata": {},
   "outputs": [
    {
     "data": {
      "text/plain": [
       "Voltage              object\n",
       "Timestamp    datetime64[ns]\n",
       "dtype: object"
      ]
     },
     "execution_count": 50,
     "metadata": {},
     "output_type": "execute_result"
    }
   ],
   "source": [
    "df_pr.dtypes"
   ]
  },
  {
   "cell_type": "markdown",
   "metadata": {},
   "source": [
    "## Observation:\n",
    "Frequent data errors occur. Let us aggregate at hourly intervals and see if the data quality is better. We will remove the problematic records"
   ]
  },
  {
   "cell_type": "code",
   "execution_count": 51,
   "metadata": {},
   "outputs": [],
   "source": [
    "df[\"Voltage\"] = df[- (df[\"Voltage\"] == \"?\")]\n",
    "df[\"Voltage\"] = df[\"Voltage\"].astype('float')\n",
    "df = df.set_index(\"Timestamp\")\n",
    "hourly_voltage = df.groupby(pd.Grouper(freq='H')).mean()\n"
   ]
  },
  {
   "cell_type": "code",
   "execution_count": 52,
   "metadata": {},
   "outputs": [],
   "source": [
    "df_prh = hourly_voltage[(hourly_voltage.isnull())]\n"
   ]
  },
  {
   "cell_type": "code",
   "execution_count": 53,
   "metadata": {},
   "outputs": [
    {
     "data": {
      "text/html": [
       "<div>\n",
       "<style scoped>\n",
       "    .dataframe tbody tr th:only-of-type {\n",
       "        vertical-align: middle;\n",
       "    }\n",
       "\n",
       "    .dataframe tbody tr th {\n",
       "        vertical-align: top;\n",
       "    }\n",
       "\n",
       "    .dataframe thead th {\n",
       "        text-align: right;\n",
       "    }\n",
       "</style>\n",
       "<table border=\"1\" class=\"dataframe\">\n",
       "  <thead>\n",
       "    <tr style=\"text-align: right;\">\n",
       "      <th></th>\n",
       "      <th>Voltage</th>\n",
       "    </tr>\n",
       "    <tr>\n",
       "      <th>Timestamp</th>\n",
       "      <th></th>\n",
       "    </tr>\n",
       "  </thead>\n",
       "  <tbody>\n",
       "    <tr>\n",
       "      <th>2006-12-16 17:00:00</th>\n",
       "      <td>NaN</td>\n",
       "    </tr>\n",
       "    <tr>\n",
       "      <th>2006-12-16 18:00:00</th>\n",
       "      <td>NaN</td>\n",
       "    </tr>\n",
       "    <tr>\n",
       "      <th>2006-12-16 19:00:00</th>\n",
       "      <td>NaN</td>\n",
       "    </tr>\n",
       "    <tr>\n",
       "      <th>2006-12-16 20:00:00</th>\n",
       "      <td>NaN</td>\n",
       "    </tr>\n",
       "    <tr>\n",
       "      <th>2006-12-16 21:00:00</th>\n",
       "      <td>NaN</td>\n",
       "    </tr>\n",
       "  </tbody>\n",
       "</table>\n",
       "</div>"
      ],
      "text/plain": [
       "                     Voltage\n",
       "Timestamp                   \n",
       "2006-12-16 17:00:00      NaN\n",
       "2006-12-16 18:00:00      NaN\n",
       "2006-12-16 19:00:00      NaN\n",
       "2006-12-16 20:00:00      NaN\n",
       "2006-12-16 21:00:00      NaN"
      ]
     },
     "execution_count": 53,
     "metadata": {},
     "output_type": "execute_result"
    }
   ],
   "source": [
    "df_prh.head()"
   ]
  },
  {
   "cell_type": "markdown",
   "metadata": {},
   "source": [
    "## Observation\n",
    "Let us determine the number problematic data collection days in the data "
   ]
  },
  {
   "cell_type": "code",
   "execution_count": 54,
   "metadata": {},
   "outputs": [],
   "source": [
    "df_prh.loc[:,\"Timestamp\"] = df_prh.index.values\n",
    "num_problem_days = len(df_prh[\"Timestamp\"].dt.date.unique())"
   ]
  },
  {
   "cell_type": "code",
   "execution_count": 55,
   "metadata": {},
   "outputs": [
    {
     "data": {
      "text/plain": [
       "1442"
      ]
     },
     "execution_count": 55,
     "metadata": {},
     "output_type": "execute_result"
    }
   ],
   "source": [
    "num_problem_days"
   ]
  },
  {
   "cell_type": "code",
   "execution_count": 56,
   "metadata": {},
   "outputs": [],
   "source": [
    "from fbprophet import Prophet\n",
    "hourly_voltage = hourly_voltage.dropna()"
   ]
  },
  {
   "cell_type": "code",
   "execution_count": 57,
   "metadata": {},
   "outputs": [
    {
     "data": {
      "text/html": [
       "<div>\n",
       "<style scoped>\n",
       "    .dataframe tbody tr th:only-of-type {\n",
       "        vertical-align: middle;\n",
       "    }\n",
       "\n",
       "    .dataframe tbody tr th {\n",
       "        vertical-align: top;\n",
       "    }\n",
       "\n",
       "    .dataframe thead th {\n",
       "        text-align: right;\n",
       "    }\n",
       "</style>\n",
       "<table border=\"1\" class=\"dataframe\">\n",
       "  <thead>\n",
       "    <tr style=\"text-align: right;\">\n",
       "      <th></th>\n",
       "      <th>Voltage</th>\n",
       "    </tr>\n",
       "    <tr>\n",
       "      <th>Timestamp</th>\n",
       "      <th></th>\n",
       "    </tr>\n",
       "  </thead>\n",
       "  <tbody>\n",
       "    <tr>\n",
       "      <th>2010-11-26 17:00:00</th>\n",
       "      <td>237.069667</td>\n",
       "    </tr>\n",
       "    <tr>\n",
       "      <th>2010-11-26 18:00:00</th>\n",
       "      <td>237.531833</td>\n",
       "    </tr>\n",
       "    <tr>\n",
       "      <th>2010-11-26 19:00:00</th>\n",
       "      <td>236.741000</td>\n",
       "    </tr>\n",
       "    <tr>\n",
       "      <th>2010-11-26 20:00:00</th>\n",
       "      <td>239.396000</td>\n",
       "    </tr>\n",
       "    <tr>\n",
       "      <th>2010-11-26 21:00:00</th>\n",
       "      <td>239.690000</td>\n",
       "    </tr>\n",
       "  </tbody>\n",
       "</table>\n",
       "</div>"
      ],
      "text/plain": [
       "                        Voltage\n",
       "Timestamp                      \n",
       "2010-11-26 17:00:00  237.069667\n",
       "2010-11-26 18:00:00  237.531833\n",
       "2010-11-26 19:00:00  236.741000\n",
       "2010-11-26 20:00:00  239.396000\n",
       "2010-11-26 21:00:00  239.690000"
      ]
     },
     "execution_count": 57,
     "metadata": {},
     "output_type": "execute_result"
    }
   ],
   "source": [
    "hourly_voltage.tail()"
   ]
  },
  {
   "cell_type": "code",
   "execution_count": 58,
   "metadata": {},
   "outputs": [],
   "source": [
    "m = Prophet()\n",
    "hourly_voltage.loc[:, \"ds\"] = hourly_voltage.index.values\n",
    "hourly_voltage.rename(columns = {'Voltage': 'y'}, inplace = True)\n",
    "test_df = hourly_voltage.tail(72)\n",
    "trng_df = hourly_voltage.head(hourly_voltage.shape[0] - 72)"
   ]
  },
  {
   "cell_type": "code",
   "execution_count": 44,
   "metadata": {},
   "outputs": [
    {
     "data": {
      "text/html": [
       "<div>\n",
       "<style scoped>\n",
       "    .dataframe tbody tr th:only-of-type {\n",
       "        vertical-align: middle;\n",
       "    }\n",
       "\n",
       "    .dataframe tbody tr th {\n",
       "        vertical-align: top;\n",
       "    }\n",
       "\n",
       "    .dataframe thead th {\n",
       "        text-align: right;\n",
       "    }\n",
       "</style>\n",
       "<table border=\"1\" class=\"dataframe\">\n",
       "  <thead>\n",
       "    <tr style=\"text-align: right;\">\n",
       "      <th></th>\n",
       "      <th>y</th>\n",
       "      <th>ds</th>\n",
       "    </tr>\n",
       "    <tr>\n",
       "      <th>Timestamp</th>\n",
       "      <th></th>\n",
       "      <th></th>\n",
       "    </tr>\n",
       "  </thead>\n",
       "  <tbody>\n",
       "    <tr>\n",
       "      <th>2006-12-16 17:00:00</th>\n",
       "      <td>234.643889</td>\n",
       "      <td>2006-12-16 17:00:00</td>\n",
       "    </tr>\n",
       "    <tr>\n",
       "      <th>2006-12-16 18:00:00</th>\n",
       "      <td>234.580167</td>\n",
       "      <td>2006-12-16 18:00:00</td>\n",
       "    </tr>\n",
       "    <tr>\n",
       "      <th>2006-12-16 19:00:00</th>\n",
       "      <td>233.232500</td>\n",
       "      <td>2006-12-16 19:00:00</td>\n",
       "    </tr>\n",
       "    <tr>\n",
       "      <th>2006-12-16 20:00:00</th>\n",
       "      <td>234.071500</td>\n",
       "      <td>2006-12-16 20:00:00</td>\n",
       "    </tr>\n",
       "    <tr>\n",
       "      <th>2006-12-16 21:00:00</th>\n",
       "      <td>237.158667</td>\n",
       "      <td>2006-12-16 21:00:00</td>\n",
       "    </tr>\n",
       "  </tbody>\n",
       "</table>\n",
       "</div>"
      ],
      "text/plain": [
       "                              y                  ds\n",
       "Timestamp                                          \n",
       "2006-12-16 17:00:00  234.643889 2006-12-16 17:00:00\n",
       "2006-12-16 18:00:00  234.580167 2006-12-16 18:00:00\n",
       "2006-12-16 19:00:00  233.232500 2006-12-16 19:00:00\n",
       "2006-12-16 20:00:00  234.071500 2006-12-16 20:00:00\n",
       "2006-12-16 21:00:00  237.158667 2006-12-16 21:00:00"
      ]
     },
     "execution_count": 44,
     "metadata": {},
     "output_type": "execute_result"
    }
   ],
   "source": [
    "hourly_voltage.head()"
   ]
  },
  {
   "cell_type": "code",
   "execution_count": 59,
   "metadata": {},
   "outputs": [
    {
     "data": {
      "text/plain": [
       "<fbprophet.forecaster.Prophet at 0x7f2b6a7bbed0>"
      ]
     },
     "execution_count": 59,
     "metadata": {},
     "output_type": "execute_result"
    }
   ],
   "source": [
    "m.fit(trng_df)"
   ]
  },
  {
   "cell_type": "code",
   "execution_count": 60,
   "metadata": {},
   "outputs": [
    {
     "data": {
      "text/plain": [
       "34096"
      ]
     },
     "execution_count": 60,
     "metadata": {},
     "output_type": "execute_result"
    }
   ],
   "source": [
    "trng_df.shape[0]"
   ]
  },
  {
   "cell_type": "code",
   "execution_count": 76,
   "metadata": {},
   "outputs": [],
   "source": [
    "future_data = m.make_future_dataframe(periods=72)"
   ]
  },
  {
   "cell_type": "code",
   "execution_count": 63,
   "metadata": {},
   "outputs": [],
   "source": [
    "forecast_data = m.predict(future_data)"
   ]
  },
  {
   "cell_type": "code",
   "execution_count": 72,
   "metadata": {},
   "outputs": [
    {
     "data": {
      "text/plain": [
       "72"
      ]
     },
     "execution_count": 72,
     "metadata": {},
     "output_type": "execute_result"
    }
   ],
   "source": [
    "import matplotlib.pyplot as plt\n",
    "%matplotlib inline \n",
    "test_df.shape[0]"
   ]
  },
  {
   "cell_type": "code",
   "execution_count": 78,
   "metadata": {},
   "outputs": [
    {
     "data": {
      "image/png": "[encoded data removed]",
      "text/plain": [
       "<Figure size 648x864 with 4 Axes>"
      ]
     },
     "metadata": {},
     "output_type": "display_data"
    }
   ],
   "source": [
    "fig = m.plot_components(forecast_data)"
   ]
  },
  {
   "cell_type": "code",
   "execution_count": 83,
   "metadata": {},
   "outputs": [],
   "source": [
    "preds = forecast_data[\"yhat\"].tail(72)"
   ]
  },
  {
   "cell_type": "code",
   "execution_count": 86,
   "metadata": {},
   "outputs": [
    {
     "data": {
      "text/plain": [
       "<matplotlib.collections.PathCollection at 0x7f2b8f406f50>"
      ]
     },
     "execution_count": 86,
     "metadata": {},
     "output_type": "execute_result"
    },
    {
     "data": {
      "image/png": "[encoded data removed]",
      "text/plain": [
       "<Figure size 432x288 with 1 Axes>"
      ]
     },
     "metadata": {},
     "output_type": "display_data"
    }
   ],
   "source": [
    "plt.scatter(test_df[\"y\"], preds)"
   ]
  },
  {
   "cell_type": "code",
   "execution_count": 90,
   "metadata": {},
   "outputs": [],
   "source": [
    "err = test_df[\"y\"].values - preds"
   ]
  },
  {
   "cell_type": "code",
   "execution_count": 92,
   "metadata": {},
   "outputs": [
    {
     "data": {
      "text/plain": [
       "(array([ 2.,  0.,  3.,  4., 10., 12., 17., 13.,  6.,  5.]),\n",
       " array([-6.64289683, -5.57944159, -4.51598635, -3.45253111, -2.38907587,\n",
       "        -1.32562062, -0.26216538,  0.80128986,  1.8647451 ,  2.92820034,\n",
       "         3.99165558]),\n",
       " <a list of 10 Patch objects>)"
      ]
     },
     "execution_count": 92,
     "metadata": {},
     "output_type": "execute_result"
    },
    {
     "data": {
      "image/png": "[encoded data removed]",
      "text/plain": [
       "<Figure size 432x288 with 1 Axes>"
      ]
     },
     "metadata": {},
     "output_type": "display_data"
    }
   ],
   "source": [
    "plt.hist(err)"
   ]
  },
  {
   "cell_type": "code",
   "execution_count": 95,
   "metadata": {},
   "outputs": [
    {
     "data": {
      "text/plain": [
       "-0.15768343923305472"
      ]
     },
     "execution_count": 95,
     "metadata": {},
     "output_type": "execute_result"
    }
   ],
   "source": [
    "import numpy as np\n",
    "np.mean(err)"
   ]
  },
  {
   "cell_type": "code",
   "execution_count": null,
   "metadata": {},
   "outputs": [],
   "source": []
  }
 ],
 "metadata": {
  "kernelspec": {
   "display_name": "Python 2",
   "language": "python",
   "name": "python2"
  },
  "language_info": {
   "codemirror_mode": {
    "name": "ipython",
    "version": 2
   },
   "file_extension": ".py",
   "mimetype": "text/x-python",
   "name": "python",
   "nbconvert_exporter": "python",
   "pygments_lexer": "ipython2",
   "version": "2.7.15"
  }
 },
 "nbformat": 4,
 "nbformat_minor": 2
}
